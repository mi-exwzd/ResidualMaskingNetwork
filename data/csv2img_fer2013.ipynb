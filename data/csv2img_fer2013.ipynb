{
 "cells": [
  {
   "cell_type": "markdown",
   "id": "38d72788",
   "metadata": {},
   "source": [
    "# FER2013を画像に変換"
   ]
  },
  {
   "cell_type": "code",
   "execution_count": 1,
   "id": "b726d672",
   "metadata": {},
   "outputs": [],
   "source": [
    "import os\n",
    "import numpy as np\n",
    "import pandas as pd\n",
    "import cv2"
   ]
  },
  {
   "cell_type": "code",
   "execution_count": 2,
   "id": "c7396001",
   "metadata": {},
   "outputs": [],
   "source": [
    "EMOTION_DICT = {\n",
    "    0: \"angry\",\n",
    "    1: \"disgust\",\n",
    "    2: \"fear\",\n",
    "    3: \"happy\",\n",
    "    4: \"sad\",\n",
    "    5: \"surprise\",\n",
    "    6: \"neutral\",\n",
    "}\n",
    "dataset_root = \"FER2013\"\n",
    "configs = {}\n",
    "configs[\"data_path\"] = \"./\""
   ]
  },
  {
   "cell_type": "code",
   "execution_count": 3,
   "id": "5d792a49",
   "metadata": {},
   "outputs": [],
   "source": [
    "def csv2img_fer2013(stage=\"train\"):\n",
    "    for v in EMOTION_DICT.values():\n",
    "        os.makedirs(f\"{dataset_root}/{stage}/{v}\", exist_ok=True)\n",
    "        \n",
    "    _data = pd.read_csv(os.path.join(configs[\"data_path\"], \"{}.csv\".format(stage)))\n",
    "    print(len(_data))\n",
    "    _pixels = _data[\"pixels\"].tolist()\n",
    "    _emotions = _data[\"emotion\"].tolist()\n",
    "    _path = []\n",
    "    \n",
    "    for idx in range(len(_data)):\n",
    "        pixels = _pixels[idx]\n",
    "        pixels = list(map(int, pixels.split(\" \")))\n",
    "        image = np.asarray(pixels).reshape(48, 48)\n",
    "        image = image.astype(np.uint8)\n",
    "\n",
    "        image = np.dstack([image] * 3)\n",
    "\n",
    "        v = EMOTION_DICT[_emotions[idx]]\n",
    "        img_path = f\"{dataset_root}/{stage}/{v}/{dataset_root}_{stage}_{v}_{idx:06d}.png\"\n",
    "        _path.append(img_path)\n",
    "        cv2.imwrite(img_path, image)\n",
    "        \n",
    "    df = pd.DataFrame({\"path\": _path, \"emotion\": _emotions})\n",
    "    df.to_csv(f\"{dataset_root}/{stage}.csv\", index=False)"
   ]
  },
  {
   "cell_type": "code",
   "execution_count": 4,
   "id": "2a9d0b76",
   "metadata": {},
   "outputs": [
    {
     "name": "stdout",
     "output_type": "stream",
     "text": [
      "28709\n",
      "3589\n",
      "3589\n"
     ]
    }
   ],
   "source": [
    "csv2img_fer2013(\"train\")\n",
    "csv2img_fer2013(\"val\")\n",
    "csv2img_fer2013(\"test\")"
   ]
  },
  {
   "cell_type": "code",
   "execution_count": null,
   "id": "4abc3261",
   "metadata": {},
   "outputs": [],
   "source": []
  }
 ],
 "metadata": {
  "kernelspec": {
   "display_name": "Python 3 (ipykernel)",
   "language": "python",
   "name": "python3"
  },
  "language_info": {
   "codemirror_mode": {
    "name": "ipython",
    "version": 3
   },
   "file_extension": ".py",
   "mimetype": "text/x-python",
   "name": "python",
   "nbconvert_exporter": "python",
   "pygments_lexer": "ipython3",
   "version": "3.7.10"
  }
 },
 "nbformat": 4,
 "nbformat_minor": 5
}
